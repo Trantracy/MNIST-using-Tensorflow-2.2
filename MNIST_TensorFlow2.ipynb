{
  "nbformat": 4,
  "nbformat_minor": 0,
  "metadata": {
    "colab": {
      "name": "MNIST TensorFlow2.ipynb",
      "provenance": [],
      "authorship_tag": "ABX9TyMaWHrc/Pnh4jJ2/c5mO9ZZ",
      "include_colab_link": true
    },
    "kernelspec": {
      "name": "python3",
      "display_name": "Python 3"
    }
  },
  "cells": [
    {
      "cell_type": "markdown",
      "metadata": {
        "id": "view-in-github",
        "colab_type": "text"
      },
      "source": [
        "<a href=\"https://colab.research.google.com/github/Trantracy/MNIST-using-Tensorflow-2.2/blob/master/MNIST_TensorFlow2.ipynb\" target=\"_parent\"><img src=\"https://colab.research.google.com/assets/colab-badge.svg\" alt=\"Open In Colab\"/></a>"
      ]
    },
    {
      "cell_type": "code",
      "metadata": {
        "id": "qSGbya-ybwzd",
        "colab_type": "code",
        "colab": {}
      },
      "source": [
        "# import tensorflow\n",
        "import tensorflow as tf"
      ],
      "execution_count": 0,
      "outputs": []
    },
    {
      "cell_type": "code",
      "metadata": {
        "id": "LPA6HxC8cEdj",
        "colab_type": "code",
        "colab": {
          "base_uri": "https://localhost:8080/",
          "height": 34
        },
        "outputId": "57504bb7-b971-4ce7-dd46-610be446f30a"
      },
      "source": [
        "import tensorflow as tf\n",
        "tf.__version__"
      ],
      "execution_count": 3,
      "outputs": [
        {
          "output_type": "execute_result",
          "data": {
            "text/plain": [
              "'2.2.0-rc3'"
            ]
          },
          "metadata": {
            "tags": []
          },
          "execution_count": 3
        }
      ]
    },
    {
      "cell_type": "code",
      "metadata": {
        "id": "QmC7LhtrcGlq",
        "colab_type": "code",
        "colab": {}
      },
      "source": [
        "# Loading the MNIST dataset\n",
        "mnist = tf.keras.datasets.mnist"
      ],
      "execution_count": 0,
      "outputs": []
    },
    {
      "cell_type": "code",
      "metadata": {
        "id": "yrYgR7fhceJ8",
        "colab_type": "code",
        "colab": {}
      },
      "source": [
        "# Split training set and test set\n",
        "(X_train, y_train), (X_test, y_test) = mnist.load_data()\n",
        "X_train, X_test = X_train / 255.0, X_test / 255.0"
      ],
      "execution_count": 0,
      "outputs": []
    },
    {
      "cell_type": "code",
      "metadata": {
        "id": "VHF2L_irgbMH",
        "colab_type": "code",
        "colab": {
          "base_uri": "https://localhost:8080/",
          "height": 160
        },
        "outputId": "1bb7ea98-547e-4245-d888-fedaca3cb9fc"
      },
      "source": [
        "# Plot the train samples\n",
        "import numpy as np\n",
        "import matplotlib.pyplot as plt\n",
        "\n",
        "fig, ax = plt.subplots(1,6, figsize = (12, 8))\n",
        "\n",
        "for i in range(6):\n",
        "  index = np.random.randint(0, len(X_train))\n",
        "  ax[i].imshow(X_train[index])\n",
        "  ax[i].set_title(f'Label: {y_train[index]}')\n",
        "\n",
        "plt.show()"
      ],
      "execution_count": 32,
      "outputs": [
        {
          "output_type": "display_data",
          "data": {
            "image/png": "[encoded data removed]",
            "text/plain": [
              "<Figure size 864x576 with 6 Axes>"
            ]
          },
          "metadata": {
            "tags": [],
            "needs_background": "light"
          }
        }
      ]
    },
    {
      "cell_type": "markdown",
      "metadata": {
        "id": "O9_zkighk-iR",
        "colab_type": "text"
      },
      "source": [
        "## Build the tf.keras.Sequential model by stacking layers:"
      ]
    },
    {
      "cell_type": "code",
      "metadata": {
        "id": "e12A3uPKhY8i",
        "colab_type": "code",
        "colab": {}
      },
      "source": [
        "# model construction: create the Deep NN:\n",
        "def create_model():\n",
        "  model = tf.keras.models.Sequential([\n",
        "                                      # INPUT layer convert data from (28,28) to 1D array\n",
        "                                      tf.keras.layers.Flatten(input_shape =(28,28)), \n",
        "                                      # Hidden layer: Using relu \n",
        "                                      tf.keras.layers.Dense(128,activation = 'relu'), \n",
        "                                       # The next layer will have 20% less node than the privious one To avoid overfit\n",
        "                                      tf.keras.layers.Dropout(0.2),\n",
        "                                      # OUTPUT layer has 10 nodes (10 numbers to predict) and softmax for milti-classification\n",
        "                                      tf.keras.layers.Dense(10, activation ='softmax') \n",
        "                                      ])\n",
        "  # compile and train\n",
        "  model.compile(optimizer = 'Adam', \n",
        "                # differ to cross entropy not require the label y in one-hot encoding type.\n",
        "                loss = 'sparse_categorical_crossentropy', \n",
        "                metrics = ['accuracy'])\n",
        "  return model\n",
        "model = create_model()"
      ],
      "execution_count": 0,
      "outputs": []
    },
    {
      "cell_type": "code",
      "metadata": {
        "id": "9zxTVfNpo3Hl",
        "colab_type": "code",
        "colab": {
          "base_uri": "https://localhost:8080/",
          "height": 289
        },
        "outputId": "7d84cc51-0cc2-4104-f6b9-05d49405bc1d"
      },
      "source": [
        "model.summary()"
      ],
      "execution_count": 15,
      "outputs": [
        {
          "output_type": "stream",
          "text": [
            "Model: \"sequential_1\"\n",
            "_________________________________________________________________\n",
            "Layer (type)                 Output Shape              Param #   \n",
            "=================================================================\n",
            "flatten_1 (Flatten)          (None, 784)               0         \n",
            "_________________________________________________________________\n",
            "dense_2 (Dense)              (None, 128)               100480    \n",
            "_________________________________________________________________\n",
            "dropout_1 (Dropout)          (None, 128)               0         \n",
            "_________________________________________________________________\n",
            "dense_3 (Dense)              (None, 10)                1290      \n",
            "=================================================================\n",
            "Total params: 101,770\n",
            "Trainable params: 101,770\n",
            "Non-trainable params: 0\n",
            "_________________________________________________________________\n"
          ],
          "name": "stdout"
        }
      ]
    },
    {
      "cell_type": "markdown",
      "metadata": {
        "id": "yVxvn4eXp66B",
        "colab_type": "text"
      },
      "source": [
        "# Build the tf.keras.Sequential model by stacking layers. Choose an optimizer and loss function for training:"
      ]
    },
    {
      "cell_type": "code",
      "metadata": {
        "id": "BFJXOHCRpR7v",
        "colab_type": "code",
        "colab": {
          "base_uri": "https://localhost:8080/",
          "height": 357
        },
        "outputId": "2bae2d66-d967-4ad6-c833-ec8fa9fd9da9"
      },
      "source": [
        "# Train the model with Train data\n",
        "history = model.fit(X_train, y_train,verbose=2, epochs=10, validation_data=(X_test, y_test))"
      ],
      "execution_count": 34,
      "outputs": [
        {
          "output_type": "stream",
          "text": [
            "Epoch 1/10\n",
            "1875/1875 - 4s - loss: 0.2981 - accuracy: 0.9124 - val_loss: 0.1534 - val_accuracy: 0.9533\n",
            "Epoch 2/10\n",
            "1875/1875 - 3s - loss: 0.1437 - accuracy: 0.9570 - val_loss: 0.0979 - val_accuracy: 0.9692\n",
            "Epoch 3/10\n",
            "1875/1875 - 4s - loss: 0.1062 - accuracy: 0.9675 - val_loss: 0.0824 - val_accuracy: 0.9744\n",
            "Epoch 4/10\n",
            "1875/1875 - 4s - loss: 0.0881 - accuracy: 0.9724 - val_loss: 0.0761 - val_accuracy: 0.9760\n",
            "Epoch 5/10\n",
            "1875/1875 - 4s - loss: 0.0748 - accuracy: 0.9766 - val_loss: 0.0787 - val_accuracy: 0.9755\n",
            "Epoch 6/10\n",
            "1875/1875 - 4s - loss: 0.0669 - accuracy: 0.9784 - val_loss: 0.0683 - val_accuracy: 0.9790\n",
            "Epoch 7/10\n",
            "1875/1875 - 4s - loss: 0.0591 - accuracy: 0.9811 - val_loss: 0.0682 - val_accuracy: 0.9773\n",
            "Epoch 8/10\n",
            "1875/1875 - 3s - loss: 0.0514 - accuracy: 0.9836 - val_loss: 0.0669 - val_accuracy: 0.9794\n",
            "Epoch 9/10\n",
            "1875/1875 - 3s - loss: 0.0484 - accuracy: 0.9840 - val_loss: 0.0702 - val_accuracy: 0.9804\n",
            "Epoch 10/10\n",
            "1875/1875 - 4s - loss: 0.0448 - accuracy: 0.9854 - val_loss: 0.0648 - val_accuracy: 0.9808\n"
          ],
          "name": "stdout"
        }
      ]
    },
    {
      "cell_type": "code",
      "metadata": {
        "id": "iHL8xpu4KHV1",
        "colab_type": "code",
        "colab": {
          "base_uri": "https://localhost:8080/",
          "height": 34
        },
        "outputId": "1c2ae96d-2eac-47fd-8158-284b29671dbf"
      },
      "source": [
        "# Check the model \n",
        "history"
      ],
      "execution_count": 35,
      "outputs": [
        {
          "output_type": "execute_result",
          "data": {
            "text/plain": [
              "<tensorflow.python.keras.callbacks.History at 0x7f88777f2898>"
            ]
          },
          "metadata": {
            "tags": []
          },
          "execution_count": 35
        }
      ]
    },
    {
      "cell_type": "code",
      "metadata": {
        "id": "6zIFGXzYKLWq",
        "colab_type": "code",
        "colab": {
          "base_uri": "https://localhost:8080/",
          "height": 697
        },
        "outputId": "2a4575fb-3f28-4a45-f51b-36015ead4867"
      },
      "source": [
        "# Check the history of model\n",
        "history.history"
      ],
      "execution_count": 36,
      "outputs": [
        {
          "output_type": "execute_result",
          "data": {
            "text/plain": [
              "{'accuracy': [0.9124333262443542,\n",
              "  0.95701664686203,\n",
              "  0.9674666523933411,\n",
              "  0.9724000096321106,\n",
              "  0.9766499996185303,\n",
              "  0.9783833622932434,\n",
              "  0.981083333492279,\n",
              "  0.9836166501045227,\n",
              "  0.9840333461761475,\n",
              "  0.9854333400726318],\n",
              " 'loss': [0.29808899760246277,\n",
              "  0.14371253550052643,\n",
              "  0.10622556507587433,\n",
              "  0.08805789053440094,\n",
              "  0.07477828860282898,\n",
              "  0.06692733615636826,\n",
              "  0.05911711975932121,\n",
              "  0.05141086503863335,\n",
              "  0.048437777906656265,\n",
              "  0.04480484500527382],\n",
              " 'val_accuracy': [0.9532999992370605,\n",
              "  0.9692000150680542,\n",
              "  0.974399983882904,\n",
              "  0.9760000109672546,\n",
              "  0.9754999876022339,\n",
              "  0.9789999723434448,\n",
              "  0.9772999882698059,\n",
              "  0.9793999791145325,\n",
              "  0.980400025844574,\n",
              "  0.9807999730110168],\n",
              " 'val_loss': [0.1534336507320404,\n",
              "  0.09788590669631958,\n",
              "  0.08244912326335907,\n",
              "  0.0760948434472084,\n",
              "  0.07871285080909729,\n",
              "  0.06832985579967499,\n",
              "  0.06823500990867615,\n",
              "  0.06694897264242172,\n",
              "  0.0702400803565979,\n",
              "  0.0647965744137764]}"
            ]
          },
          "metadata": {
            "tags": []
          },
          "execution_count": 36
        }
      ]
    },
    {
      "cell_type": "code",
      "metadata": {
        "id": "oaLbxCBkX8iF",
        "colab_type": "code",
        "colab": {
          "base_uri": "https://localhost:8080/",
          "height": 51
        },
        "outputId": "039aec3b-2131-4c0c-89a2-be0f03f909f8"
      },
      "source": [
        "#evaluate the model with test data\n",
        "model.evaluate(X_test,y_test)"
      ],
      "execution_count": 37,
      "outputs": [
        {
          "output_type": "stream",
          "text": [
            "313/313 [==============================] - 0s 1ms/step - loss: 0.0648 - accuracy: 0.9808\n"
          ],
          "name": "stdout"
        },
        {
          "output_type": "execute_result",
          "data": {
            "text/plain": [
              "[0.0647965744137764, 0.9807999730110168]"
            ]
          },
          "metadata": {
            "tags": []
          },
          "execution_count": 37
        }
      ]
    },
    {
      "cell_type": "code",
      "metadata": {
        "id": "kaNrXE13YHB_",
        "colab_type": "code",
        "colab": {
          "base_uri": "https://localhost:8080/",
          "height": 497
        },
        "outputId": "51a5223d-dc9c-46f2-824a-abdca9d3a289"
      },
      "source": [
        "# Visualize model \n",
        "def ploth(history,key='loss'):\n",
        "  plt.figure(figsize=(12,8))\n",
        "  plt.plot(history.epoch, history.history['val_' +key],'--', label = key.title()+\" Val\")\n",
        "  plt.plot(history.epoch, history.history[key], label = key.title() + ' train')\n",
        "  plt.xlabel('Epoch')\n",
        "  plt.ylabel(key)\n",
        "  plt.legend()\n",
        "\n",
        "ploth(history, key='accuracy')\n"
      ],
      "execution_count": 49,
      "outputs": [
        {
          "output_type": "display_data",
          "data": {
            "image/png": "[encoded data removed]",
            "text/plain": [
              "<Figure size 864x576 with 1 Axes>"
            ]
          },
          "metadata": {
            "tags": [],
            "needs_background": "light"
          }
        }
      ]
    },
    {
      "cell_type": "code",
      "metadata": {
        "id": "WW3k4nWPJBsz",
        "colab_type": "code",
        "colab": {}
      },
      "source": [
        ""
      ],
      "execution_count": 0,
      "outputs": []
    }
  ]
}